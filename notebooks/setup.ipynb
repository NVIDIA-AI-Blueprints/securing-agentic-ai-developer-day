{
 "cells": [
  {
   "cell_type": "markdown",
   "metadata": {},
   "source": [
    "![NVIDIA Header](assets/header.png)\n",
    "\n",
    "# **Securing Agentic AI Developer Day: Setting up your Environment**"
   ]
  },
  {
   "cell_type": "markdown",
   "metadata": {},
   "source": [
    "Welcome to the **Securing Agentic AI Developer Day**. AI Adoption is transforming industries, organizations, and daily operations -- this developer day will learn how to bring security fundamentals to the next generation of agentic AI applications so enterprises can deploy with confidence. "
   ]
  },
  {
   "cell_type": "markdown",
   "metadata": {},
   "source": [
    "## Notebook Contents\n",
    "- [Getting Your NVIDIA API Key](#getting-your-nvidia-api-key)\n",
    "  - [Step 1: Access NVIDIA API Catalog](#step-1-access-nvidia-api-catalog)\n",
    "  - [Step 2: Select a Model](#step-2-select-a-model)\n",
    "  - [Step 3: Get the API Key](#step-3-get-the-api-key)\n",
    "  - [Step 4: Copy and Save the API Key](#step-4-copy-and-save-the-api-key)\n",
    "  - [Alternative: Generate API Key from NGC](#alternative-generate-api-key-from-ngc)\n",
    "- [Setting Up Your Environment](#setting-up-your-environment)"
   ]
  },
  {
   "cell_type": "markdown",
   "metadata": {},
   "source": [
    "\n",
    "## Getting Your NVIDIA API Key\n",
    "\n",
    "To run the demos in this workshop, you will need an NVIDIA API key. This API key will allow you to authenticate and access necessary resources. \n",
    "\n",
    "### Step 1: Access NVIDIA API Catalog\n",
    "Navigate to [NVIDIA API Catalog](https://build.nvidia.com). This houses all NVIDIA NIMs and Blueprints. \n",
    "\n",
    "![Step 1](assets/api1.png)\n",
    "\n",
    "### Step 2: Select a Model \n",
    "From the API Catalog, choose a model that you would like to use. For the purposes of this demo, select [Llama 3.3 70B Instruct](https://build.nvidia.com/meta/llama-3_3-70b-instruct)\n",
    "![Step 2](assets/api2.png)\n",
    "\n",
    "### Step 3: Get the API Key \n",
    "Select `Build with this NIM` at the top right corner. This will prompt you to login. If you are able to, use your enterprise email to maximize the benefits of your trial. \n",
    "\n",
    "![Step 3](assets/api3.png)\n",
    "![Step 4](assets/api4.png)\n",
    "\n",
    "### Step 4: Copy and Save the API Key \n",
    "Once logged in, an API key will be generated for you. The key will start with `nvapi-` followed by a 32-character string. Copy the entire API key.\n",
    "\n",
    "Save the API key somewhere secure. You will need it in a later step to set up your environment file for running the pipeline.\n",
    "\n",
    "### Alternative: Generate API Key from NGC\n",
    "Alternatively, you can generate an API key from the [NVIDIA GPU Cloud (NGC)](https://ngc.nvidia.com) platform.\n",
    "\n",
    "## Setting Up Your Environment\n",
    "\n",
    "Run the following code to set up your API key for the demos:"
   ]
  },
  {
   "cell_type": "code",
   "execution_count": null,
   "metadata": {},
   "outputs": [],
   "source": [
    "import os\n",
    "from getpass import getpass\n",
    "import json\n",
    "\n",
    "# Get API key securely\n",
    "NVIDIA_API_KEY = getpass(\"Please enter your NVIDIA API key (nvapi-): \")\n",
    "\n",
    "# Save to API key config file\n",
    "api_key_config = {'NVIDIA_API_KEY': NVIDIA_API_KEY}\n",
    "with open('.env', 'w') as f:\n",
    "    f.write(f'NVIDIA_API_KEY={NVIDIA_API_KEY}\\nNIM_API_KEY={NVIDIA_API_KEY}')"
   ]
  }
 ],
 "metadata": {
  "language_info": {
   "name": "python"
  }
 },
 "nbformat": 4,
 "nbformat_minor": 2
}
